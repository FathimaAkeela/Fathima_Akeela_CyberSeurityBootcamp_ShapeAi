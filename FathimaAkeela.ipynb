{
  "nbformat": 4,
  "nbformat_minor": 0,
  "metadata": {
    "colab": {
      "name": "FathimaAkeela",
      "provenance": [],
      "collapsed_sections": []
    },
    "kernelspec": {
      "name": "python3",
      "display_name": "Python 3"
    },
    "language_info": {
      "name": "python"
    }
  },
  "cells": [
    {
      "cell_type": "code",
      "metadata": {
        "id": "QdXXbsZujDHX"
      },
      "source": [
        "import requests\n",
        "\n",
        "from datetime import datetime\n"
      ],
      "execution_count": 1,
      "outputs": []
    },
    {
      "cell_type": "code",
      "metadata": {
        "colab": {
          "base_uri": "https://localhost:8080/"
        },
        "id": "E0XtB9upjvvO",
        "outputId": "a0abeaee-127e-4a62-bd6a-4696178a7972"
      },
      "source": [
        "api_key='d355241e3c5ac3c28b741bda1834c62e'\n",
        "location=input(\"Enter the city name: \")\n",
        "\n",
        "complete_api_link=\"https://api.openweathermap.org/data/2.5/weather?q=\"+location+\"&appid=\"+api_key\n",
        "api_link=requests.get(complete_api_link)\n",
        "api_data=api_link.json()\n",
        "\n",
        "temp_city = ((api_data['main']['temp']) - 273.15)\n",
        "weather_desc = api_data['weather'][0]['description']\n",
        "hmdt = api_data['main']['humidity']\n",
        "wind_spd = api_data['wind']['speed']\n",
        "date_time =datetime.now().strftime(\"%d %b %Y | %I:%M:%S %p\")\n",
        "\n",
        "file = open('weather_statistics.txt','w')\n",
        "\n",
        "file.write(\"----------------------------------------------------------\")\n",
        "file.write(\"Weather stats for - {} || {} \".format(location.upper(),date_time))\n",
        "file.write(\"----------------------------------------------------------\")\n",
        "\n",
        "\n",
        "file.write(\"Current temperature is : {:.2f} deg C\".format(temp_city))\n",
        "file.write(\"Current weather desc   : {}\".format(weather_desc))\n",
        "file.write(\"Current Humidity       : {} %\".format(hmdt))\n",
        "file.write(\"Current wind speed     : {} kmph\".format(wind_spd))\n",
        "\n",
        "file.close()"
      ],
      "execution_count": 16,
      "outputs": [
        {
          "output_type": "stream",
          "text": [
            "Enter the city name: kandy\n"
          ],
          "name": "stdout"
        }
      ]
    }
  ]
}